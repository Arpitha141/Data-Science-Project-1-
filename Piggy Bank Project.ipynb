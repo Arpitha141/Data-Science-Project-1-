{
 "cells": [
  {
   "cell_type": "markdown",
   "metadata": {},
   "source": [
    "## Assignment\n",
    "Develope an piggy bank application, which will work as per above instruction.\n",
    "\n"
   ]
  },
  {
   "cell_type": "markdown",
   "metadata": {},
   "source": [
    "We should create a piigy bank application for school children to teach them importance of savings.\n",
    "They should have the option to :\n",
    "\n",
    "** Add modeny\n",
    "\n",
    "** withdraw money\n",
    "\n",
    "** Check the current amount in the piggy bank"
   ]
  },
  {
   "cell_type": "markdown",
   "metadata": {},
   "source": [
    "## Solution\n",
    "\n",
    "Piggy Bank Project with Function Concept\n",
    "Functionality includes :\n",
    "\n",
    "1..  Add Money\n",
    "\n",
    "2..  Withdraw Money\n",
    "\n",
    "3..  Check the balance\n",
    "\n",
    "4..  Simple Interest for 10% \n",
    "\n",
    "5..  Calculator "
   ]
  },
  {
   "cell_type": "code",
   "execution_count": 1,
   "metadata": {},
   "outputs": [],
   "source": [
    "#global variable \n",
    "amount = 0"
   ]
  },
  {
   "cell_type": "code",
   "execution_count": 2,
   "metadata": {},
   "outputs": [],
   "source": [
    "# Function to add money into account\n",
    "def addMoney(addMoney):\n",
    "    global amount\n",
    "    amount = amount+addMoney\n",
    "    return print('After adding , your updated balance is '+str(amount)+' rupees')"
   ]
  },
  {
   "cell_type": "code",
   "execution_count": 3,
   "metadata": {},
   "outputs": [],
   "source": [
    "# Function to withdraw money from account\n",
    "def withDrawMoney(subMoney):\n",
    "    global amount\n",
    "    if(subMoney<amount):\n",
    "        amount = amount - subMoney\n",
    "        print('After withdrawing  , balance amount is '+str(amount)+' rupees')\n",
    "    else:\n",
    "        print(\"Insufficient balance\")\n",
    "        print('Balance in your account '+str(amount)+' rupees')\n",
    "        print(\"\\n\")"
   ]
  },
  {
   "cell_type": "code",
   "execution_count": 4,
   "metadata": {},
   "outputs": [],
   "source": [
    "# Function to check money in account\n",
    "def checkMoney():\n",
    "    global amount\n",
    "    return print('Your current balance is '+str(amount) +' rupees')"
   ]
  },
  {
   "cell_type": "code",
   "execution_count": 5,
   "metadata": {},
   "outputs": [],
   "source": [
    "#Calculate interest amount for the deposite\n",
    "def simpleInterestCal():\n",
    "    global amount\n",
    "    time=int(input(\"Enter the time(years):\"))\n",
    "    rate=10.00\n",
    "    simple_interest=(amount*time*rate)/100\n",
    "    print(\"The simple interest is:\",simple_interest)\n",
    "    totalAmount = amount + float(simple_interest)\n",
    "    print(\"Account Banlance after \" +str(time) + \"years is : \" + str(totalAmount))"
   ]
  },
  {
   "cell_type": "code",
   "execution_count": 6,
   "metadata": {},
   "outputs": [],
   "source": [
    "#Calculator Function\n",
    "def calculator():\n",
    "    func = input('''                    Press 1 -- Addtion \n",
    "                    Press 2 -- Subtraction \n",
    "                    Press 3 -- Multiplication \n",
    "                    Press 4 -- Division: ''')\n",
    "    a = input('Input first argument: ')\n",
    "    b = input('Input second argument: ')\n",
    "    result = 0.0\n",
    "    if(func== '1' and a.isdigit() and b.isdigit()):\n",
    "        func = 'Addition'\n",
    "        result= float(a)+float(b)\n",
    "    elif(func=='2' and a.isdigit() and b.isdigit()):\n",
    "        func = 'Subtraction'\n",
    "        result=float(a)-float(b)\n",
    "    elif(func=='3' and a.isdigit() and b.isdigit()):\n",
    "        func = 'Multiplication'\n",
    "        result=float(a)*float(b)\n",
    "    elif(func=='4' and a.isdigit() and b.isdigit()):\n",
    "        func = 'Division'\n",
    "        result=float(a)/float(b)\n",
    "    else:\n",
    "        print('Invalid inputs.')\n",
    "    print('The ' +func + ' of input : ' +str(a) + ' ' + str(b) +' is : ' +str(result))"
   ]
  },
  {
   "cell_type": "code",
   "execution_count": 7,
   "metadata": {},
   "outputs": [],
   "source": [
    "#Piggy Banking Functionality\n",
    "def piggyBankFunction():\n",
    "    count =0\n",
    "    while(True):\n",
    "        startOrEnd  = input(\"Start or End :\") # input to start or stop \n",
    "        \n",
    "        if(startOrEnd=='End'):\n",
    "            break\n",
    "        elif(startOrEnd == 'Start'):\n",
    "            count+=1\n",
    "            if(count==1):\n",
    "                name =  input('Please write your name : ' )\n",
    "                print('Hi ' + name + ' Welcome To Piggy Banking ! Please follow the instructions as appears on screen. ' )\n",
    "            # input to what action need to take\n",
    "            operation = input(\"Add , Withdraw , Check or Simple Interest (To Calculate the Simple Interest) or Calculator:\")\n",
    "            # if block for ading money in account\n",
    "            if(operation==\"Add\"):\n",
    "                addAmonut = input(\"Add Amount :\")\n",
    "                if(addAmonut.isdigit()):\n",
    "                    addMoney(float(addAmonut))\n",
    "                else:\n",
    "                    print('Amount should be in digits')\n",
    "                    # block to withdraw account\n",
    "            elif(operation==\"Withdraw\"):\n",
    "                subAmount = input(\" Withdraw Amount : \")\n",
    "                if(subAmount.isdigit()):\n",
    "                    withDrawMoney(float(subAmount))\n",
    "                else:\n",
    "                    print('Amount should be in digits')\n",
    "                    # block to check balance\n",
    "            elif(operation == \"Check\"):\n",
    "                print(checkMoney())\n",
    "            elif(operation == 'Simple Interest'):\n",
    "                simpleInterestCal()\n",
    "            elif(operation == 'Calculator'):\n",
    "                calculator()\n",
    "            else:\n",
    "                print('Invalid Input! Please enter \"Add\" or \"Withdraw\" or \"Check\" only.')\n",
    "                continue\n",
    "        else:\n",
    "            print('Invalid Input! Please enter \"Start\" or \"End\" only.' )\n",
    "            continue\n",
    "    print(name +\", Thank You . Visit Again . \")                                             # Thank you note on stop"
   ]
  },
  {
   "cell_type": "code",
   "execution_count": 8,
   "metadata": {},
   "outputs": [
    {
     "name": "stdout",
     "output_type": "stream",
     "text": [
      "Start or End :Start\n",
      "Please write your name : Arpitha\n",
      "Hi Arpitha Welcome To Piggy Banking ! Please follow the instructions as appears on screen. \n",
      "Add , Withdraw , Check or Simple Interest (To Calculate the Simple Interest) or Calculator:Add\n",
      "Add Amount :1000\n",
      "After adding , your updated balance is 1000.0 rupees\n",
      "Start or End :Start\n",
      "Add , Withdraw , Check or Simple Interest (To Calculate the Simple Interest) or Calculator:Withdraw\n",
      " Withdraw Amount : 300\n",
      "After withdrawing  , balance amount is 700.0 rupees\n",
      "Start or End :Check\n",
      "Invalid Input! Please enter \"Start\" or \"End\" only.\n",
      "Start or End :Start\n",
      "Add , Withdraw , Check or Simple Interest (To Calculate the Simple Interest) or Calculator:Check\n",
      "Your current balance is 700.0 rupees\n",
      "None\n",
      "Start or End :Start\n",
      "Add , Withdraw , Check or Simple Interest (To Calculate the Simple Interest) or Calculator:Simple Interest\n",
      "Enter the time(years):5\n",
      "The simple interest is: 350.0\n",
      "Account Banlance after 5years is : 1050.0\n",
      "Start or End :Start\n",
      "Add , Withdraw , Check or Simple Interest (To Calculate the Simple Interest) or Calculator:Calculator\n",
      "                    Press 1 -- Addtion \n",
      "                    Press 2 -- Subtraction \n",
      "                    Press 3 -- Multiplication \n",
      "                    Press 4 -- Division: 1\n",
      "Input first argument: 5\n",
      "Input second argument: 6\n",
      "The Addition of input : 5 6 is : 11.0\n",
      "Start or End :Start\n",
      "Add , Withdraw , Check or Simple Interest (To Calculate the Simple Interest) or Calculator:Calculator\n",
      "                    Press 1 -- Addtion \n",
      "                    Press 2 -- Subtraction \n",
      "                    Press 3 -- Multiplication \n",
      "                    Press 4 -- Division: 2\n",
      "Input first argument: 4\n",
      "Input second argument: 2\n",
      "The Subtraction of input : 4 2 is : 2.0\n",
      "Start or End :Start\n",
      "Add , Withdraw , Check or Simple Interest (To Calculate the Simple Interest) or Calculator:Calculator\n",
      "                    Press 1 -- Addtion \n",
      "                    Press 2 -- Subtraction \n",
      "                    Press 3 -- Multiplication \n",
      "                    Press 4 -- Division: 3\n",
      "Input first argument: 3\n",
      "Input second argument: 6\n",
      "The Multiplication of input : 3 6 is : 18.0\n",
      "Start or End :Start\n",
      "Add , Withdraw , Check or Simple Interest (To Calculate the Simple Interest) or Calculator:Calculator\n",
      "                    Press 1 -- Addtion \n",
      "                    Press 2 -- Subtraction \n",
      "                    Press 3 -- Multiplication \n",
      "                    Press 4 -- Division: 4\n",
      "Input first argument: 9\n",
      "Input second argument: 3\n",
      "The Division of input : 9 3 is : 3.0\n",
      "Start or End :End\n",
      "Arpitha, Thank You . Visit Again . \n"
     ]
    }
   ],
   "source": [
    "piggyBankFunction()"
   ]
  },
  {
   "cell_type": "code",
   "execution_count": null,
   "metadata": {},
   "outputs": [],
   "source": []
  }
 ],
 "metadata": {
  "kernelspec": {
   "display_name": "Python 3",
   "language": "python",
   "name": "python3"
  },
  "language_info": {
   "codemirror_mode": {
    "name": "ipython",
    "version": 3
   },
   "file_extension": ".py",
   "mimetype": "text/x-python",
   "name": "python",
   "nbconvert_exporter": "python",
   "pygments_lexer": "ipython3",
   "version": "3.7.0"
  }
 },
 "nbformat": 4,
 "nbformat_minor": 2
}
